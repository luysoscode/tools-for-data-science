{
 "cells": [
  {
   "cell_type": "markdown",
   "id": "96b6c1ef",
   "metadata": {},
   "source": [
    "<center>\n",
    "    <img src=\"https://cf-courses-data.s3.us.cloud-object-storage.appdomain.cloud/IBMDeveloperSkillsNetwork-DS0105EN-SkillsNetwork/labs/Module2/images/SN_web_lightmode.png\" width=\"300\" alt=\"cognitiveclass.ai logo\">\n",
    "</center>"
   ]
  },
  {
   "cell_type": "markdown",
   "id": "23b3bc06",
   "metadata": {},
   "source": [
    "# Hands-on Lab: Create your Jupyter Notebook"
   ]
  },
  {
   "cell_type": "markdown",
   "id": "ff9630f1",
   "metadata": {},
   "source": [
    "#### Add your code below following the instructions given in the course\n"
   ]
  },
  {
   "cell_type": "markdown",
   "id": "013beb6c",
   "metadata": {},
   "source": [
    "# Data Science Tools and Ecosystem"
   ]
  },
  {
   "cell_type": "markdown",
   "id": "c206db75",
   "metadata": {},
   "source": [
    "In this notebook, Data Science Tools and Ecosystem are summarized."
   ]
  },
  {
   "cell_type": "markdown",
   "id": "5434f24f",
   "metadata": {},
   "source": [
    "Some of the popular languages that Data Scientists use are:\n",
    "1. Python\n",
    "1. R\n",
    "1. SQL"
   ]
  },
  {
   "cell_type": "markdown",
   "id": "479e00a2",
   "metadata": {},
   "source": [
    "Some of the commonly used libraries used by Data Scientists include:\n",
    "1. PixieDust\n",
    "1. TensorFlow\n",
    "1. Numpy\n",
    "1. Pandas\n",
    "1. MatPlotLib\n",
    "1. PlotlY\n",
    "1. ScykitLearn\n",
    "1. PyTorch\n",
    "1. Keras"
   ]
  },
  {
   "cell_type": "markdown",
   "id": "56422807",
   "metadata": {},
   "source": [
    "| Data Science Tools      | \n",
    "| ----------------------- | \n",
    "| Jupyter Notebooks       | \n",
    "| RStudio                 | \n",
    "| Visual Studio Code      | "
   ]
  },
  {
   "cell_type": "markdown",
   "id": "52639480",
   "metadata": {},
   "source": [
    "### Below are a few examples of evaluating arithmetic expressions in Python"
   ]
  },
  {
   "cell_type": "code",
   "execution_count": 2,
   "id": "df6ecf5a",
   "metadata": {},
   "outputs": [
    {
     "data": {
      "text/plain": [
       "17"
      ]
     },
     "execution_count": 2,
     "metadata": {},
     "output_type": "execute_result"
    }
   ],
   "source": [
    "# This a simple arithmetic expression to mutiply then add integers\n",
    "(3*4)+5"
   ]
  },
  {
   "cell_type": "code",
   "execution_count": 3,
   "id": "9535bd2b",
   "metadata": {},
   "outputs": [
    {
     "data": {
      "text/plain": [
       "3.3333333333333335"
      ]
     },
     "execution_count": 3,
     "metadata": {},
     "output_type": "execute_result"
    }
   ],
   "source": [
    "# This will convert 200 minutes to hours by diving by 60\n",
    "200 / 60"
   ]
  },
  {
   "cell_type": "markdown",
   "id": "6acb0b32",
   "metadata": {},
   "source": [
    "**Objectives:**\n",
    "- List Data Science Libraries\n",
    "- List Data Science Languages\n",
    "- List Data Science Tools"
   ]
  },
  {
   "cell_type": "markdown",
   "id": "c74f2243",
   "metadata": {},
   "source": [
    "## Author\n",
    "Luis Rodríguez Arriero"
   ]
  },
  {
   "cell_type": "markdown",
   "id": "274aa316",
   "metadata": {},
   "source": [
    "Copyright ©2024 IBM Corporation. All rights reserved."
   ]
  }
 ],
 "metadata": {
  "kernelspec": {
   "display_name": "base",
   "language": "python",
   "name": "python3"
  },
  "language_info": {
   "codemirror_mode": {
    "name": "ipython",
    "version": 3
   },
   "file_extension": ".py",
   "mimetype": "text/x-python",
   "name": "python",
   "nbconvert_exporter": "python",
   "pygments_lexer": "ipython3",
   "version": "3.12.7"
  }
 },
 "nbformat": 4,
 "nbformat_minor": 5
}
